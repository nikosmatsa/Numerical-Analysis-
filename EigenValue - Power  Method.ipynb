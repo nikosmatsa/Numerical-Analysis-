{
 "cells": [
  {
   "cell_type": "code",
   "execution_count": 1,
   "metadata": {},
   "outputs": [],
   "source": [
    "from sympy import *\n",
    "from warnings import filterwarnings\n",
    "init_printing(use_latex = 'mathjax')\n",
    "filterwarnings('ignore')"
   ]
  },
  {
   "cell_type": "code",
   "execution_count": 2,
   "metadata": {},
   "outputs": [],
   "source": [
    "lamda = symbols('lamda')"
   ]
  },
  {
   "cell_type": "code",
   "execution_count": 3,
   "metadata": {},
   "outputs": [
    {
     "data": {
      "text/latex": [
       "$\\displaystyle \\left( \\left[\\begin{matrix}-2 & 1 & 0\\\\1 & -2 & 1\\\\0 & 1 & -2\\end{matrix}\\right], \\  \\left[\\begin{matrix}1 & 0 & 0\\\\0 & 1 & 0\\\\0 & 0 & 1\\end{matrix}\\right]\\right)$"
      ],
      "text/plain": [
       "⎛⎡-2  1   0 ⎤  ⎡1  0  0⎤⎞\n",
       "⎜⎢          ⎥  ⎢       ⎥⎟\n",
       "⎜⎢1   -2  1 ⎥, ⎢0  1  0⎥⎟\n",
       "⎜⎢          ⎥  ⎢       ⎥⎟\n",
       "⎝⎣0   1   -2⎦  ⎣0  0  1⎦⎠"
      ]
     },
     "execution_count": 3,
     "metadata": {},
     "output_type": "execute_result"
    }
   ],
   "source": [
    "A = Matrix([[-2, 1, 0], [1, -2, 1], [0, 1, -2]])\n",
    "I = eye(3)\n",
    "A, I "
   ]
  },
  {
   "cell_type": "code",
   "execution_count": 4,
   "metadata": {},
   "outputs": [
    {
     "data": {
      "text/latex": [
       "$\\displaystyle \\left[\\begin{matrix}- \\lambda - 2 & 1 & 0\\\\1 & - \\lambda - 2 & 1\\\\0 & 1 & - \\lambda - 2\\end{matrix}\\right]$"
      ],
      "text/plain": [
       "⎡-λ - 2    1       0   ⎤\n",
       "⎢                      ⎥\n",
       "⎢  1     -λ - 2    1   ⎥\n",
       "⎢                      ⎥\n",
       "⎣  0       1     -λ - 2⎦"
      ]
     },
     "execution_count": 4,
     "metadata": {},
     "output_type": "execute_result"
    }
   ],
   "source": [
    "(A - lamda * I)"
   ]
  },
  {
   "cell_type": "code",
   "execution_count": 5,
   "metadata": {},
   "outputs": [
    {
     "data": {
      "text/latex": [
       "$\\displaystyle 2 \\lambda + \\left(- \\lambda - 2\\right)^{3} + 4$"
      ],
      "text/plain": [
       "              3    \n",
       "2⋅λ + (-λ - 2)  + 4"
      ]
     },
     "execution_count": 5,
     "metadata": {},
     "output_type": "execute_result"
    }
   ],
   "source": [
    "(A - lamda * I).det()"
   ]
  },
  {
   "cell_type": "code",
   "execution_count": 6,
   "metadata": {},
   "outputs": [
    {
     "data": {
      "text/latex": [
       "$\\displaystyle - \\left(\\lambda + 2\\right) \\left(\\lambda^{2} + 4 \\lambda + 2\\right)$"
      ],
      "text/plain": [
       "         ⎛ 2          ⎞\n",
       "-(λ + 2)⋅⎝λ  + 4⋅λ + 2⎠"
      ]
     },
     "execution_count": 6,
     "metadata": {},
     "output_type": "execute_result"
    }
   ],
   "source": [
    "((A - lamda * I).det()).factor()"
   ]
  },
  {
   "cell_type": "code",
   "execution_count": 7,
   "metadata": {},
   "outputs": [
    {
     "data": {
      "text/latex": [
       "$\\displaystyle \\left\\{ -2 : 1, \\  -2 - \\sqrt{2} : 1, \\  -2 + \\sqrt{2} : 1\\right\\}$"
      ],
      "text/plain": [
       "{-2: 1, -2 - √2: 1, -2 + √2: 1}"
      ]
     },
     "execution_count": 7,
     "metadata": {},
     "output_type": "execute_result"
    }
   ],
   "source": [
    "A.eigenvals()"
   ]
  },
  {
   "cell_type": "code",
   "execution_count": 8,
   "metadata": {},
   "outputs": [
    {
     "data": {
      "text/latex": [
       "$\\displaystyle \\left[ \\left( -2, \\  1, \\  \\left[ \\left[\\begin{matrix}-1\\\\0\\\\1\\end{matrix}\\right]\\right]\\right), \\  \\left( -2 - \\sqrt{2}, \\  1, \\  \\left[ \\left[\\begin{matrix}1\\\\- \\sqrt{2}\\\\1\\end{matrix}\\right]\\right]\\right), \\  \\left( -2 + \\sqrt{2}, \\  1, \\  \\left[ \\left[\\begin{matrix}1\\\\\\sqrt{2}\\\\1\\end{matrix}\\right]\\right]\\right)\\right]$"
      ],
      "text/plain": [
       "⎡⎛       ⎡⎡-1⎤⎤⎞  ⎛            ⎡⎡ 1 ⎤⎤⎞  ⎛            ⎡⎡1 ⎤⎤⎞⎤\n",
       "⎢⎜       ⎢⎢  ⎥⎥⎟  ⎜            ⎢⎢   ⎥⎥⎟  ⎜            ⎢⎢  ⎥⎥⎟⎥\n",
       "⎢⎜-2, 1, ⎢⎢0 ⎥⎥⎟, ⎜-2 - √2, 1, ⎢⎢-√2⎥⎥⎟, ⎜-2 + √2, 1, ⎢⎢√2⎥⎥⎟⎥\n",
       "⎢⎜       ⎢⎢  ⎥⎥⎟  ⎜            ⎢⎢   ⎥⎥⎟  ⎜            ⎢⎢  ⎥⎥⎟⎥\n",
       "⎣⎝       ⎣⎣1 ⎦⎦⎠  ⎝            ⎣⎣ 1 ⎦⎦⎠  ⎝            ⎣⎣1 ⎦⎦⎠⎦"
      ]
     },
     "execution_count": 8,
     "metadata": {},
     "output_type": "execute_result"
    }
   ],
   "source": [
    "A.eigenvects()"
   ]
  },
  {
   "cell_type": "markdown",
   "metadata": {},
   "source": [
    "## Power method (from Dr.Chrysafinos Notes Ntua )\n"
   ]
  },
  {
   "cell_type": "code",
   "execution_count": 30,
   "metadata": {},
   "outputs": [
    {
     "data": {
      "text/plain": [
       "array([[-2,  1,  0],\n",
       "       [ 1, -2,  1],\n",
       "       [ 0,  1, -2]])"
      ]
     },
     "execution_count": 30,
     "metadata": {},
     "output_type": "execute_result"
    }
   ],
   "source": [
    "import numpy as np \n",
    "A = np.array([[-2, 1, 0], [1, -2, 1], [0, 1, -2]]);A"
   ]
  },
  {
   "cell_type": "code",
   "execution_count": 31,
   "metadata": {},
   "outputs": [
    {
     "data": {
      "text/plain": [
       "array([-1,  2,  3])"
      ]
     },
     "execution_count": 31,
     "metadata": {},
     "output_type": "execute_result"
    }
   ],
   "source": [
    "x = np.array([-1, 2, 3]);x"
   ]
  },
  {
   "cell_type": "code",
   "execution_count": 24,
   "metadata": {},
   "outputs": [
    {
     "data": {
      "text/plain": [
       "array([ 4, -2, -4])"
      ]
     },
     "execution_count": 24,
     "metadata": {},
     "output_type": "execute_result"
    }
   ],
   "source": [
    "y1 = A@x;y1"
   ]
  },
  {
   "cell_type": "code",
   "execution_count": 25,
   "metadata": {},
   "outputs": [
    {
     "data": {
      "text/plain": [
       "array([-4.        , -1.        , -1.33333333])"
      ]
     },
     "execution_count": 25,
     "metadata": {},
     "output_type": "execute_result"
    }
   ],
   "source": [
    "y1/x"
   ]
  },
  {
   "cell_type": "code",
   "execution_count": 26,
   "metadata": {},
   "outputs": [
    {
     "data": {
      "text/plain": [
       "array([ 0.66666667, -0.33333333, -0.66666667])"
      ]
     },
     "execution_count": 26,
     "metadata": {},
     "output_type": "execute_result"
    }
   ],
   "source": [
    "x1= y1 / np.linalg.norm(y1);x1"
   ]
  },
  {
   "cell_type": "code",
   "execution_count": 27,
   "metadata": {},
   "outputs": [
    {
     "data": {
      "text/plain": [
       "array([-1.66666667,  0.66666667,  1.        ])"
      ]
     },
     "execution_count": 27,
     "metadata": {},
     "output_type": "execute_result"
    }
   ],
   "source": [
    "y2 = A@x1;y2"
   ]
  },
  {
   "cell_type": "code",
   "execution_count": 28,
   "metadata": {},
   "outputs": [
    {
     "data": {
      "text/plain": [
       "array([-2.5, -2. , -1.5])"
      ]
     },
     "execution_count": 28,
     "metadata": {},
     "output_type": "execute_result"
    }
   ],
   "source": [
    "y2 / x1"
   ]
  },
  {
   "cell_type": "code",
   "execution_count": 29,
   "metadata": {},
   "outputs": [
    {
     "data": {
      "text/plain": [
       "array([-0.81110711,  0.32444284,  0.48666426])"
      ]
     },
     "execution_count": 29,
     "metadata": {},
     "output_type": "execute_result"
    }
   ],
   "source": [
    "x2 = y2 / np.linalg.norm(y2);x2"
   ]
  },
  {
   "cell_type": "markdown",
   "metadata": {},
   "source": [
    "## Rank one Matrix"
   ]
  },
  {
   "cell_type": "code",
   "execution_count": 32,
   "metadata": {},
   "outputs": [],
   "source": [
    "x1,x2,x3,x4 ,y1,y2,y3,y4= symbols('x1 x2 x3 x4 y1 y2 y3 y4 ')"
   ]
  },
  {
   "cell_type": "code",
   "execution_count": 42,
   "metadata": {},
   "outputs": [
    {
     "data": {
      "text/latex": [
       "$\\displaystyle \\left[\\begin{matrix}x_{1} & x_{2} & x_{3} & x_{4}\\end{matrix}\\right]$"
      ],
      "text/plain": [
       "[x₁  x₂  x₃  x₄]"
      ]
     },
     "execution_count": 42,
     "metadata": {},
     "output_type": "execute_result"
    }
   ],
   "source": [
    "x = Matrix([[x1,x2,x3,x4]]);x"
   ]
  },
  {
   "cell_type": "code",
   "execution_count": 43,
   "metadata": {},
   "outputs": [
    {
     "data": {
      "text/latex": [
       "$\\displaystyle \\left[\\begin{matrix}x_{1}\\\\x_{2}\\\\x_{3}\\\\x_{4}\\end{matrix}\\right]$"
      ],
      "text/plain": [
       "⎡x₁⎤\n",
       "⎢  ⎥\n",
       "⎢x₂⎥\n",
       "⎢  ⎥\n",
       "⎢x₃⎥\n",
       "⎢  ⎥\n",
       "⎣x₄⎦"
      ]
     },
     "execution_count": 43,
     "metadata": {},
     "output_type": "execute_result"
    }
   ],
   "source": [
    "xT = Matrix([[x1,x2,x3,x4]]).T;xT"
   ]
  },
  {
   "cell_type": "code",
   "execution_count": 44,
   "metadata": {},
   "outputs": [
    {
     "data": {
      "text/latex": [
       "$\\displaystyle \\left[\\begin{matrix}y_{1} & y_{2} & y_{3} & y_{4}\\end{matrix}\\right]$"
      ],
      "text/plain": [
       "[y₁  y₂  y₃  y₄]"
      ]
     },
     "execution_count": 44,
     "metadata": {},
     "output_type": "execute_result"
    }
   ],
   "source": [
    "y = Matrix([[y1,y2,y3,y4]]);y"
   ]
  },
  {
   "cell_type": "code",
   "execution_count": 47,
   "metadata": {},
   "outputs": [],
   "source": [
    "x2 = x@xT"
   ]
  },
  {
   "cell_type": "code",
   "execution_count": 48,
   "metadata": {},
   "outputs": [
    {
     "data": {
      "text/latex": [
       "$\\displaystyle \\left[\\begin{matrix}y_{1} \\left(x_{1}^{2} + x_{2}^{2} + x_{3}^{2} + x_{4}^{2}\\right) & y_{2} \\left(x_{1}^{2} + x_{2}^{2} + x_{3}^{2} + x_{4}^{2}\\right) & y_{3} \\left(x_{1}^{2} + x_{2}^{2} + x_{3}^{2} + x_{4}^{2}\\right) & y_{4} \\left(x_{1}^{2} + x_{2}^{2} + x_{3}^{2} + x_{4}^{2}\\right)\\end{matrix}\\right]$"
      ],
      "text/plain": [
       "⎡   ⎛  2     2     2     2⎞     ⎛  2     2     2     2⎞     ⎛  2     2     2  \n",
       "⎣y₁⋅⎝x₁  + x₂  + x₃  + x₄ ⎠  y₂⋅⎝x₁  + x₂  + x₃  + x₄ ⎠  y₃⋅⎝x₁  + x₂  + x₃  +\n",
       "\n",
       "   2⎞     ⎛  2     2     2     2⎞⎤\n",
       " x₄ ⎠  y₄⋅⎝x₁  + x₂  + x₃  + x₄ ⎠⎦"
      ]
     },
     "execution_count": 48,
     "metadata": {},
     "output_type": "execute_result"
    }
   ],
   "source": [
    "x2@y"
   ]
  },
  {
   "cell_type": "code",
   "execution_count": null,
   "metadata": {},
   "outputs": [],
   "source": []
  }
 ],
 "metadata": {
  "kernelspec": {
   "display_name": "Python 3",
   "language": "python",
   "name": "python3"
  },
  "language_info": {
   "codemirror_mode": {
    "name": "ipython",
    "version": 3
   },
   "file_extension": ".py",
   "mimetype": "text/x-python",
   "name": "python",
   "nbconvert_exporter": "python",
   "pygments_lexer": "ipython3",
   "version": "3.8.3"
  }
 },
 "nbformat": 4,
 "nbformat_minor": 4
}

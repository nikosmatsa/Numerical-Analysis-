{
 "cells": [
  {
   "cell_type": "code",
   "execution_count": 1,
   "metadata": {},
   "outputs": [],
   "source": [
    "import numpy as np"
   ]
  },
  {
   "cell_type": "code",
   "execution_count": 14,
   "metadata": {},
   "outputs": [],
   "source": [
    "def conjGrad(A,x,b,tol = 1e-3,N = 1000):\n",
    "    r = b - A@x\n",
    "    p = r.copy()\n",
    "    for i in range(N):\n",
    "        Ap = A@p\n",
    "        alpha = (p@r) / (p@Ap)\n",
    "        x = x + alpha*p\n",
    "        r = b - A.dot(x)\n",
    "        if np.sqrt(np.sum((r**2))) < tol:\n",
    "            print('Iterations executed:', i)\n",
    "            break\n",
    "        else:\n",
    "            beta = - (r@Ap) /  (p@Ap)\n",
    "            w = beta*p\n",
    "            p = r + w\n",
    "    return x "
   ]
  },
  {
   "cell_type": "code",
   "execution_count": 15,
   "metadata": {},
   "outputs": [
    {
     "name": "stdout",
     "output_type": "stream",
     "text": [
      "Iterations executed: 2\n"
     ]
    },
    {
     "data": {
      "text/plain": [
       "array([-2.,  9., 11.])"
      ]
     },
     "execution_count": 15,
     "metadata": {},
     "output_type": "execute_result"
    }
   ],
   "source": [
    "a = np.array([[3, 2, -1], [2, -1, 1], [-1, 1, -1]]) # 3X3 symmetric matrix\n",
    "b = np.array([1, -2, 0])\n",
    "x = np.array([0, 1, 2])\n",
    "\n",
    "conjGrad(a,x,b)"
   ]
  },
  {
   "cell_type": "code",
   "execution_count": null,
   "metadata": {},
   "outputs": [],
   "source": []
  }
 ],
 "metadata": {
  "kernelspec": {
   "display_name": "Python 3",
   "language": "python",
   "name": "python3"
  },
  "language_info": {
   "codemirror_mode": {
    "name": "ipython",
    "version": 3
   },
   "file_extension": ".py",
   "mimetype": "text/x-python",
   "name": "python",
   "nbconvert_exporter": "python",
   "pygments_lexer": "ipython3",
   "version": "3.8.3"
  }
 },
 "nbformat": 4,
 "nbformat_minor": 4
}

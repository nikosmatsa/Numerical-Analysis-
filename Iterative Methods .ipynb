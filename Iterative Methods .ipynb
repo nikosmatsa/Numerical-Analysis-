{
 "cells": [
  {
   "cell_type": "code",
   "execution_count": 1,
   "metadata": {},
   "outputs": [],
   "source": [
    "import numpy as np\n",
    "import matplotlib.pyplot as plt\n",
    "%matplotlib inline"
   ]
  },
  {
   "cell_type": "code",
   "execution_count": 2,
   "metadata": {},
   "outputs": [
    {
     "name": "stdout",
     "output_type": "stream",
     "text": [
      "A: [[2. 1.]\n",
      " [5. 7.]]\n",
      "b: [11. 13.]\n",
      "x: [ 7.11110202 -3.22220342]\n"
     ]
    }
   ],
   "source": [
    "\n",
    "\n",
    "def jacobi(A,b,N=25,x=None):\n",
    "    if x is None:\n",
    "        x = np.zeros(len(A[0]))\n",
    "\n",
    "                                                                                                                                                                    \n",
    "    D = np.diag(A)\n",
    "    R = A - np.diagflat(D)\n",
    "\n",
    "                                                                                                                                                                             \n",
    "    for i in range(N):\n",
    "        x = (b - np.dot(R,x)) / D\n",
    "    return x\n",
    "\n",
    "A = np.array([[2.0,1.0],[5.0,7.0]])\n",
    "b = np.array([11.0,13.0])\n",
    "guess = np.array([1.0,1.0])\n",
    "\n",
    "sol = jacobi(A,b,N=25,x=guess)\n",
    "\n",
    "print(\"A:\",A)\n",
    "print(\"b:\",b)\n",
    "print(\"x:\",sol)\n"
   ]
  },
  {
   "cell_type": "code",
   "execution_count": 4,
   "metadata": {},
   "outputs": [
    {
     "name": "stdout",
     "output_type": "stream",
     "text": [
      "x: [ 0.03508772 -0.23684211  0.65789474]\n"
     ]
    }
   ],
   "source": [
    "\n",
    "A = np.array([[3.0,-1.0,1.0],[3.0,6.0,2.0],[3.0,3.0,7.0] ])\n",
    "b = np.array([1.0,0.0,4.0])\n",
    "guess = np.array([0.0,0.0,0.0])\n",
    "\n",
    "sol = jacobi(A,b,N=25,x=guess)\n",
    "print(\"x:\",sol)\n"
   ]
  },
  {
   "cell_type": "code",
   "execution_count": 8,
   "metadata": {},
   "outputs": [
    {
     "name": "stdout",
     "output_type": "stream",
     "text": [
      "Gauss-Seidel failed to converge\n"
     ]
    }
   ],
   "source": [
    "import numpy as np\n",
    "\n",
    "def gaussSeidel(iterEqs,x,tol = 1.0e-9):\n",
    "    omega = 1.0\n",
    "    k = 10\n",
    "    p = 1\n",
    "    for i in range(1,501):\n",
    "        xOld = x.copy()\n",
    "        x = iterEqs(x,omega)\n",
    "        dx = np.sqrt(np.dot(x-xOld,x-xOld)) \n",
    "        if dx < tol:\n",
    "            return x,i,omega\n",
    "        if i == k:\n",
    "            dx1 = dx\n",
    "        if i == k + p:\n",
    "            dx2 = dx\n",
    "            omega = 2.0/(1.0 + np.sqrt(1.0 - (dx2/dx1)**(1.0/p))) \n",
    "print(\"Gauss-Seidel failed to converge\")\n"
   ]
  },
  {
   "cell_type": "code",
   "execution_count": 23,
   "metadata": {},
   "outputs": [
    {
     "name": "stdout",
     "output_type": "stream",
     "text": [
      "X = [0.27638192 0.17085425 0.21105529 0.19597989 0.20100503 0.20100502\n",
      " 0.1959799  0.21105527 0.17085427 0.27638191]\n",
      "The number of iterations is: 19\n",
      "[1.00000002 0.99999998 1.00000002 0.99999999 1.00000001 1.\n",
      " 1.         1.         1.         1.        ]\n"
     ]
    }
   ],
   "source": [
    "import numpy as np \n",
    "import math \n",
    "\n",
    "A = np.array([[3.0, 1.0, 0., 0., 0., 0., 0., 0., 0., 0.],\n",
    "              [1.0, 3.0, 1.0, 0., 0., 0., 0., 0., 0., 0.], \n",
    "              [0., 1.0, 3.0, 1.0, 0., 0., 0., 0., 0., 0.], \n",
    "              [0., 0, 1.0, 3.0, 1.0, 0., 0., 0., 0., 0.], \n",
    "              [0., 0., 0., 1.0, 3.0, 1.0, 0., 0., 0., 0.], \n",
    "              [0., 0., 0., 0., 1.0, 3.0, 1.0, 0., 0., 0.], \n",
    "              [0., 0., 0., 0., 0., 1.0, 3.0, 1.0, 0., 0.], \n",
    "              [0., 0., 0., 0., 0., 0., 1.0, 3.0, 1.0, 0.], \n",
    "              [0., 0., 0., 0., 0., 0., 0., 1.0, 3.0, 1.0], \n",
    "              [0., 0., 0., 0., 0., 0., 0., 0., 1.0, 3.0]])\n",
    "\n",
    "b = np.array([1.0, 1.0, 1.0, 1.0, 1.0, 1.0, 1.0, 1.0, 1.0, 1.0])\n",
    "x0 = np.array([0., 0., 0., 0., 0., 0., 0., 0., 0., 0.])\n",
    "tol =  10 ** (-15)\n",
    "max_iter = 20\n",
    "w = 1.5\n",
    "\n",
    "def SOR(A, b, x0, tol, max_iter, w): \n",
    "    if (w<=1 or w>2): \n",
    "        print('w should be inside [1, 2)'); \n",
    "        step = -1; \n",
    "        x = float('nan') \n",
    "        return \n",
    "    n = b.shape \n",
    "    x = x0 \n",
    "\n",
    "    for step in range (1, max_iter): \n",
    "        for i in range(n[0]): \n",
    "            new_values_sum = np.dot(A[i, :i], x[:i])\n",
    "            old_values_sum = np.dot(A[i, i+1 :], x0[ i+1: ]) \n",
    "            x[i] = (b[i] - (old_values_sum + new_values_sum)) / A[i, i] \n",
    "            x[i] = np.dot(x[i], w) + np.dot(x0[i], (1 - w))  \n",
    "      \n",
    "        if (np.linalg.norm(np.dot(A, x)-b ) < tol):\n",
    "            print(step) \n",
    "            break \n",
    "        x0 = x\n",
    "\n",
    "    print(\"X = {}\".format(x)) \n",
    "    print(\"The number of iterations is: {}\".format(step))\n",
    "    return x\n",
    "x = SOR(A, b, x0, tol, max_iter, w)\n",
    "print(np.dot(A, x))"
   ]
  },
  {
   "cell_type": "code",
   "execution_count": 18,
   "metadata": {},
   "outputs": [
    {
     "data": {
      "text/plain": [
       "[<matplotlib.lines.Line2D at 0x7fd39aacc0a0>]"
      ]
     },
     "execution_count": 18,
     "metadata": {},
     "output_type": "execute_result"
    },
    {
     "data": {
      "image/png": "[encoded data removed]",
      "text/plain": [
       "<Figure size 432x288 with 1 Axes>"
      ]
     },
     "metadata": {
      "needs_background": "light"
     },
     "output_type": "display_data"
    }
   ],
   "source": [
    "plt.plot(x[0:10])"
   ]
  },
  {
   "cell_type": "code",
   "execution_count": 50,
   "metadata": {},
   "outputs": [
    {
     "name": "stdout",
     "output_type": "stream",
     "text": [
      "Residual:    14.6179\n",
      "Residual:    11.2948\n",
      "Residual:    3.67768\n",
      "Residual:    3.19424\n",
      "Residual:    2.53585\n",
      "Residual:    0.68396\n",
      "Residual:    0.75634\n",
      "Residual:   0.593797\n",
      "Residual:   0.189146\n",
      "Residual:   0.190827\n",
      "Residual:   0.144984\n",
      "Residual:  0.0584829\n",
      "Residual:  0.0500644\n",
      "Residual:  0.0366401\n",
      "Residual:  0.0175857\n",
      "Residual:  0.0134192\n",
      "Residual: 0.00950158\n",
      "Residual:  0.0051081\n",
      "Residual: 0.00363697\n",
      "Residual: 0.00250919\n",
      "Residual: 0.00144923\n",
      "Residual: 0.000991173\n",
      "Residual: 0.000670862\n",
      "Residual: 0.000405216\n",
      "Residual: 0.000270828\n",
      "Residual: 0.000180835\n",
      "Residual: 0.000112307\n",
      "Residual: 7.40858e-05\n",
      "Residual: 4.90057e-05\n",
      "Residual: 3.09616e-05\n",
      "Residual: 2.0275e-05\n",
      "Residual: 1.3326e-05\n",
      "Residual: 8.50875e-06\n",
      "Residual: 5.54917e-06\n",
      "Residual: 3.63169e-06\n",
      "Residual: 2.33393e-06\n",
      "Residual: 1.51871e-06\n",
      "Residual: 9.91113e-07\n",
      "Residual: 6.39471e-07\n",
      "Residual: 4.1561e-07\n",
      "Residual: 2.7072e-07\n",
      "Residual: 1.75092e-07\n",
      "Residual: 1.13725e-07\n",
      "Residual: 7.39876e-08\n",
      "Residual: 4.79227e-08\n",
      "Residual: 3.11164e-08\n",
      "Residual: 2.02278e-08\n",
      "Residual: 1.31134e-08\n",
      "Residual: 8.51327e-09\n",
      "[ 3. -2.  2.  1.]\n"
     ]
    }
   ],
   "source": [
    "import numpy as np\n",
    "\n",
    "def sor_solver(A, b, omega, guess,tolerance):\n",
    "    phi = guess\n",
    "    residual = np.linalg.norm(A@phi - b)\n",
    "    while residual > tolerance:\n",
    "        for i in range(A.shape[0]):     # columns\n",
    "            sigma = 0\n",
    "            for j in range(A.shape[1]): # columns \n",
    "                if j != i:\n",
    "                    sigma += A[i][j] * phi[j]\n",
    "            phi[i] = (1 - omega) * phi[i] + (omega / A[i][i]) * (b[i] - sigma)\n",
    "        residual =  np.linalg.norm(A@phi - b)\n",
    "        print('Residual: {0:10.6g}'.format(residual))\n",
    "    return phi\n",
    "\n",
    "\n",
    "tol = 1e-8\n",
    "omega = 0.5\n",
    "\n",
    "A = np.array([[ 4, -1, -6,  0],\n",
    "              [-5, -4, 10,  8],\n",
    "              [ 0,  9,  4, -2],\n",
    "              [ 1,  0, -7,  5]])\n",
    "\n",
    "b = np.array([2, 21, -12, -6])\n",
    "\n",
    "guess = np.zeros(4)\n",
    "\n",
    "phi = sor_solver(A, b, omega, guess, tol)\n",
    "print(phi)\n"
   ]
  },
  {
   "cell_type": "code",
   "execution_count": 44,
   "metadata": {},
   "outputs": [
    {
     "name": "stdout",
     "output_type": "stream",
     "text": [
      "Residual:   0.743607\n",
      "Residual:   0.177597\n",
      "Residual:  0.0428441\n",
      "Residual:  0.0114389\n",
      "Residual: 0.00360773\n",
      "Residual: 0.00141569\n",
      "Residual: 0.000619415\n",
      "Residual: 0.000285533\n",
      "Residual: 0.000133957\n",
      "Residual: 6.36727e-05\n",
      "Residual: 3.02444e-05\n",
      "Residual: 1.40799e-05\n",
      "Residual: 6.38572e-06\n",
      "Residual: 2.82822e-06\n",
      "Residual: 1.22892e-06\n",
      "Residual: 5.26217e-07\n",
      "Residual: 2.2284e-07\n",
      "Residual: 9.35848e-08\n",
      "Residual: 3.90567e-08\n",
      "Residual: 1.62231e-08\n",
      "Residual: 6.71458e-09\n",
      "Residual: 2.77158e-09\n",
      "Residual: 1.14167e-09\n",
      "Residual: 4.69539e-10\n",
      "Residual: 1.92878e-10\n",
      "Residual: 7.91576e-11\n",
      "Residual: 3.24639e-11\n",
      "Residual: 1.33068e-11\n",
      "Residual: 5.45221e-12\n",
      "Residual: 2.23332e-12\n",
      "Residual: 9.14441e-13\n",
      "Residual: 3.74252e-13\n",
      "Residual: 1.53208e-13\n",
      "Residual: 6.27012e-14\n",
      "Residual: 2.56961e-14\n",
      "Residual: 1.05149e-14\n",
      "Residual: 4.23634e-15\n",
      "Residual: 1.69831e-15\n",
      "Residual: 7.1089e-16\n",
      "[0.27638191 0.17085427 0.21105528 0.1959799  0.20100503 0.20100503\n",
      " 0.1959799  0.21105528 0.17085427 0.27638191]\n"
     ]
    }
   ],
   "source": [
    "\n",
    "A = np.array([[3.0, 1.0, 0., 0., 0., 0., 0., 0., 0., 0.],\n",
    "              [1.0, 3.0, 1.0, 0., 0., 0., 0., 0., 0., 0.], \n",
    "              [0., 1.0, 3.0, 1.0, 0., 0., 0., 0., 0., 0.], \n",
    "              [0., 0, 1.0, 3.0, 1.0, 0., 0., 0., 0., 0.], \n",
    "              [0., 0., 0., 1.0, 3.0, 1.0, 0., 0., 0., 0.], \n",
    "              [0., 0., 0., 0., 1.0, 3.0, 1.0, 0., 0., 0.], \n",
    "              [0., 0., 0., 0., 0., 1.0, 3.0, 1.0, 0., 0.], \n",
    "              [0., 0., 0., 0., 0., 0., 1.0, 3.0, 1.0, 0.], \n",
    "              [0., 0., 0., 0., 0., 0., 0., 1.0, 3.0, 1.0], \n",
    "              [0., 0., 0., 0., 0., 0., 0., 0., 1.0, 3.0]])\n",
    "\n",
    "b = np.array([1.0, 1.0, 1.0, 1.0, 1.0, 1.0, 1.0, 1.0, 1.0, 1.0])\n",
    "x0 = np.array([0., 0., 0., 0., 0., 0., 0., 0., 0., 0.])\n",
    "tol =  10 ** (-15)\n",
    "max_iter = 20\n",
    "w = 1\n",
    "phi = sor_solver(A, b, w, x0, tol)\n",
    "print(phi)"
   ]
  },
  {
   "cell_type": "code",
   "execution_count": 53,
   "metadata": {},
   "outputs": [
    {
     "name": "stdout",
     "output_type": "stream",
     "text": [
      "x: [3.99275362 2.95410628 2.16183575 0.96618357]\n",
      "computed b: [29. 31. 26. 19.]\n",
      "real b: [29 31 26 19]\n"
     ]
    }
   ],
   "source": [
    "def jacobi(A, b, x_init, epsilon=1e-10, max_iterations=500):\n",
    "    D = np.diag(np.diag(A))\n",
    "    LU = A - D\n",
    "    x = x_init\n",
    "    for i in range(max_iterations):\n",
    "        D_inv = np.diag(1 / np.diag(D))\n",
    "        x_new = np.dot(D_inv, b - np.dot(LU, x))\n",
    "        if np.linalg.norm(x_new - x) < epsilon:\n",
    "            return x_new\n",
    "        x = x_new\n",
    "    return x\n",
    "\n",
    "# problem data\n",
    "A = np.array([\n",
    "    [5, 2, 1, 1],\n",
    "    [2, 6, 2, 1],\n",
    "    [1, 2, 7, 1],\n",
    "    [1, 1, 2, 8]\n",
    "])\n",
    "b = np.array([29, 31, 26, 19])\n",
    "\n",
    "# you can choose any starting vector\n",
    "x_init = np.zeros(len(b))\n",
    "x = jacobi(A, b, x_init)\n",
    "\n",
    "print(\"x:\", x)\n",
    "print(\"computed b:\", np.dot(A, x))\n",
    "print(\"real b:\", b)"
   ]
  }
 ],
 "metadata": {
  "kernelspec": {
   "display_name": "Python 3",
   "language": "python",
   "name": "python3"
  },
  "language_info": {
   "codemirror_mode": {
    "name": "ipython",
    "version": 3
   },
   "file_extension": ".py",
   "mimetype": "text/x-python",
   "name": "python",
   "nbconvert_exporter": "python",
   "pygments_lexer": "ipython3",
   "version": "3.8.3"
  }
 },
 "nbformat": 4,
 "nbformat_minor": 1
}

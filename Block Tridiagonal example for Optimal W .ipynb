{
 "cells": [
  {
   "cell_type": "code",
   "execution_count": 2,
   "metadata": {},
   "outputs": [],
   "source": [
    "from sympy import *\n",
    "from warnings import filterwarnings\n",
    "import numpy as np"
   ]
  },
  {
   "cell_type": "code",
   "execution_count": 3,
   "metadata": {},
   "outputs": [],
   "source": [
    "init_printing(use_latex = 'mathjax')\n",
    "filterwarnings('ignore')"
   ]
  },
  {
   "cell_type": "code",
   "execution_count": 4,
   "metadata": {},
   "outputs": [],
   "source": [
    "a = symbols(' a ')"
   ]
  },
  {
   "cell_type": "code",
   "execution_count": 5,
   "metadata": {},
   "outputs": [
    {
     "data": {
      "text/latex": [
       "$\\displaystyle \\left[\\begin{matrix}4 & -1 & 0 & 0\\\\-1 & 4 & -1 & 0\\\\0 & -1 & 4 & 0\\\\0 & 0 & 0 & 4\\end{matrix}\\right]$"
      ],
      "text/plain": [
       "⎡4   -1  0   0⎤\n",
       "⎢             ⎥\n",
       "⎢-1  4   -1  0⎥\n",
       "⎢             ⎥\n",
       "⎢0   -1  4   0⎥\n",
       "⎢             ⎥\n",
       "⎣0   0   0   4⎦"
      ]
     },
     "execution_count": 5,
     "metadata": {},
     "output_type": "execute_result"
    }
   ],
   "source": [
    "A = Matrix([[4,-1,0,0], [-1, 4,-1,0], [0, -1,4,0], [0, 0,0,4]])\n",
    "A"
   ]
  },
  {
   "cell_type": "code",
   "execution_count": 6,
   "metadata": {},
   "outputs": [
    {
     "data": {
      "text/latex": [
       "$\\displaystyle \\left[\\begin{matrix}4 & 0 & 0 & 0\\\\0 & 4 & 0 & 0\\\\0 & 0 & 4 & 0\\\\0 & 0 & 0 & 4\\end{matrix}\\right]$"
      ],
      "text/plain": [
       "⎡4  0  0  0⎤\n",
       "⎢          ⎥\n",
       "⎢0  4  0  0⎥\n",
       "⎢          ⎥\n",
       "⎢0  0  4  0⎥\n",
       "⎢          ⎥\n",
       "⎣0  0  0  4⎦"
      ]
     },
     "execution_count": 6,
     "metadata": {},
     "output_type": "execute_result"
    }
   ],
   "source": [
    "D = 4*eye(4);D"
   ]
  },
  {
   "cell_type": "code",
   "execution_count": 7,
   "metadata": {},
   "outputs": [
    {
     "data": {
      "text/latex": [
       "$\\displaystyle \\left[\\begin{matrix}0 & 0 & 0 & 0\\\\-1 & 0 & 0 & 0\\\\0 & -1 & 0 & 0\\\\0 & 0 & 0 & 0\\end{matrix}\\right]$"
      ],
      "text/plain": [
       "⎡0   0   0  0⎤\n",
       "⎢            ⎥\n",
       "⎢-1  0   0  0⎥\n",
       "⎢            ⎥\n",
       "⎢0   -1  0  0⎥\n",
       "⎢            ⎥\n",
       "⎣0   0   0  0⎦"
      ]
     },
     "execution_count": 7,
     "metadata": {},
     "output_type": "execute_result"
    }
   ],
   "source": [
    "Al = Matrix([[0,0,0,0],[-1,0,0,0],[0,-1,0,0],[0,0,0,0]]);Al"
   ]
  },
  {
   "cell_type": "code",
   "execution_count": 8,
   "metadata": {},
   "outputs": [
    {
     "data": {
      "text/latex": [
       "$\\displaystyle \\left[\\begin{matrix}0 & -1 & 0 & 0\\\\0 & 0 & -1 & 0\\\\0 & 0 & 0 & 0\\\\0 & 0 & 0 & 0\\end{matrix}\\right]$"
      ],
      "text/plain": [
       "⎡0  -1  0   0⎤\n",
       "⎢            ⎥\n",
       "⎢0  0   -1  0⎥\n",
       "⎢            ⎥\n",
       "⎢0  0   0   0⎥\n",
       "⎢            ⎥\n",
       "⎣0  0   0   0⎦"
      ]
     },
     "execution_count": 8,
     "metadata": {},
     "output_type": "execute_result"
    }
   ],
   "source": [
    "Ar = Matrix([[0,-1,0,0],[0,0,0-1,0],[0,0,0,0],[0,0,0,0]]);Ar"
   ]
  },
  {
   "cell_type": "code",
   "execution_count": 9,
   "metadata": {},
   "outputs": [
    {
     "data": {
      "text/latex": [
       "$\\displaystyle \\left[\\begin{matrix}0 & \\frac{1}{4 a} & 0 & 0\\\\\\frac{a}{4} & 0 & \\frac{1}{4 a} & 0\\\\0 & \\frac{a}{4} & 0 & 0\\\\0 & 0 & 0 & 0\\end{matrix}\\right]$"
      ],
      "text/plain": [
       "⎡    1         ⎤\n",
       "⎢0  ───   0   0⎥\n",
       "⎢   4⋅a        ⎥\n",
       "⎢              ⎥\n",
       "⎢a        1    ⎥\n",
       "⎢─   0   ───  0⎥\n",
       "⎢4       4⋅a   ⎥\n",
       "⎢              ⎥\n",
       "⎢    a         ⎥\n",
       "⎢0   ─    0   0⎥\n",
       "⎢    4         ⎥\n",
       "⎢              ⎥\n",
       "⎣0   0    0   0⎦"
      ]
     },
     "execution_count": 9,
     "metadata": {},
     "output_type": "execute_result"
    }
   ],
   "source": [
    "Ma = -(a*D.inv() *Al+(1/a)*D.inv() *Ar) ;Ma"
   ]
  },
  {
   "cell_type": "code",
   "execution_count": 10,
   "metadata": {},
   "outputs": [
    {
     "data": {
      "text/latex": [
       "$\\displaystyle \\left\\{ 0 : 2, \\  - \\frac{\\sqrt{2}}{4} : 1, \\  \\frac{\\sqrt{2}}{4} : 1\\right\\}$"
      ],
      "text/plain": [
       "⎧      -√2      √2   ⎫\n",
       "⎨0: 2, ────: 1, ──: 1⎬\n",
       "⎩       4       4    ⎭"
      ]
     },
     "execution_count": 10,
     "metadata": {},
     "output_type": "execute_result"
    }
   ],
   "source": [
    "Ma.eigenvals()"
   ]
  },
  {
   "cell_type": "code",
   "execution_count": 11,
   "metadata": {},
   "outputs": [
    {
     "data": {
      "text/latex": [
       "$\\displaystyle \\operatorname{PurePoly}{\\left( \\lambda^{4} -  \\frac{1}{8} \\lambda^{2}, \\lambda, domain=\\mathbb{Q} \\right)}$"
      ],
      "text/plain": [
       "PurePoly(lambda**4 - 1/8*lambda**2, lambda, domain='QQ')"
      ]
     },
     "execution_count": 11,
     "metadata": {},
     "output_type": "execute_result"
    }
   ],
   "source": [
    "Ma.charpoly()"
   ]
  },
  {
   "cell_type": "code",
   "execution_count": 12,
   "metadata": {},
   "outputs": [
    {
     "data": {
      "text/latex": [
       "$\\displaystyle \\lambda^{4} - \\frac{\\lambda^{2}}{8}$"
      ],
      "text/plain": [
       "      2\n",
       " 4   λ \n",
       "λ  - ──\n",
       "     8 "
      ]
     },
     "execution_count": 12,
     "metadata": {},
     "output_type": "execute_result"
    }
   ],
   "source": [
    "Ma.charpoly().as_expr()"
   ]
  },
  {
   "cell_type": "code",
   "execution_count": 16,
   "metadata": {},
   "outputs": [
    {
     "data": {
      "text/latex": [
       "$\\displaystyle 1.0333704529042345$"
      ],
      "text/plain": [
       "1.0333704529042345"
      ]
     },
     "execution_count": 16,
     "metadata": {},
     "output_type": "execute_result"
    }
   ],
   "source": [
    "Wopt = 2 /(1+ np.sqrt(1-(1/8)));Wopt\n"
   ]
  },
  {
   "cell_type": "code",
   "execution_count": 17,
   "metadata": {},
   "outputs": [
    {
     "data": {
      "text/plain": [
       "True"
      ]
     },
     "execution_count": 17,
     "metadata": {},
     "output_type": "execute_result"
    }
   ],
   "source": [
    "Wopt >=1"
   ]
  },
  {
   "cell_type": "code",
   "execution_count": null,
   "metadata": {},
   "outputs": [],
   "source": []
  }
 ],
 "metadata": {
  "kernelspec": {
   "display_name": "Python 3",
   "language": "python",
   "name": "python3"
  },
  "language_info": {
   "codemirror_mode": {
    "name": "ipython",
    "version": 3
   },
   "file_extension": ".py",
   "mimetype": "text/x-python",
   "name": "python",
   "nbconvert_exporter": "python",
   "pygments_lexer": "ipython3",
   "version": "3.8.3"
  }
 },
 "nbformat": 4,
 "nbformat_minor": 4
}
